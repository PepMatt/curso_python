{
 "cells": [
  {
   "metadata": {},
   "cell_type": "code",
   "outputs": [],
   "execution_count": null,
   "source": [
    "# no borres esta línea\n",
    "from evaluate import edad, nombre\n",
    "\n",
    "# completa el ejercicio\n",
    "expresion = nombre != \"****\" and (edad > 10 and edad < 18) and (len(nombre) < 10 and len(nombre) > 3)"
   ]
  }
 ],
 "metadata": {},
 "nbformat": 4,
 "nbformat_minor": 0
}
