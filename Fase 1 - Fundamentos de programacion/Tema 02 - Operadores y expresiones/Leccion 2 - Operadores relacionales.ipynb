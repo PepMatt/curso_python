{
 "cells": [
  {
   "metadata": {},
   "cell_type": "raw",
   "source": ""
  },
  {
   "metadata": {},
   "cell_type": "code",
   "outputs": [],
   "execution_count": null,
   "source": [
    "# no borres esta línea\n",
    "\n",
    "from evaluate import expresiones\n",
    "\n",
    "# completa el ejercicio\n",
    "resultados = [False, True, True, True, True]"
   ]
  }
 ],
 "metadata": {},
 "nbformat": 4,
 "nbformat_minor": 0
}
