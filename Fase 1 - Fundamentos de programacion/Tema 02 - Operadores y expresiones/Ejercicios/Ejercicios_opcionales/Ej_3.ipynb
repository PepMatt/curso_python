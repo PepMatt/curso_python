{
 "cells": [
  {
   "cell_type": "code",
   "id": "initial_id",
   "metadata": {
    "collapsed": true,
    "ExecuteTime": {
     "end_time": "2024-07-02T17:24:16.548251Z",
     "start_time": "2024-07-02T17:24:14.507455Z"
    }
   },
   "source": [
    "# Completa el ejercicio aquí\n",
    "\n",
    "numero_magico = 12345679\n",
    "numero_usuario = input(\"Ingrese un numero entre 1 y 9: \")\n",
    "\n",
    "numero_usuario = int(numero_usuario)\n",
    "\n",
    "numero_usuario *= 9\n",
    "\n",
    "numero_magico *= numero_usuario\n",
    "\n",
    "print(numero_magico)"
   ],
   "outputs": [
    {
     "name": "stdout",
     "output_type": "stream",
     "text": [
      "1333333332\n"
     ]
    }
   ],
   "execution_count": 3
  }
 ],
 "metadata": {
  "kernelspec": {
   "display_name": "Python 3",
   "language": "python",
   "name": "python3"
  },
  "language_info": {
   "codemirror_mode": {
    "name": "ipython",
    "version": 2
   },
   "file_extension": ".py",
   "mimetype": "text/x-python",
   "name": "python",
   "nbconvert_exporter": "python",
   "pygments_lexer": "ipython2",
   "version": "2.7.6"
  }
 },
 "nbformat": 4,
 "nbformat_minor": 5
}
