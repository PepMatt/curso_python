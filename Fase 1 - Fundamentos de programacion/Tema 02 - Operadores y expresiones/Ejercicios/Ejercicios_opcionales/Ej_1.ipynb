{
 "cells": [
  {
   "cell_type": "code",
   "id": "initial_id",
   "metadata": {
    "collapsed": true,
    "ExecuteTime": {
     "end_time": "2024-07-02T17:12:14.146901Z",
     "start_time": "2024-07-02T17:12:08.251061Z"
    }
   },
   "source": [
    "# Completa el ejercicio aquí\n",
    "\n",
    "num_1 = input(\"introduzca un numero\")\n",
    "\n",
    "num_2 = input (\"introduzca otro numero\")\n",
    "\n",
    "if num_1 == num_2:\n",
    "    print(\"El numero es iguale\")\n",
    "\n",
    "if num_1 != num_2:\n",
    "    print(\"El numero no es iguale\")\n",
    "    \n",
    "if num_1 > num_2:\n",
    "    print(\"El primer numero es mayor\")\n",
    "\n",
    "if num_2 >= num_1:\n",
    "    print(\"El segundo numero  es mayor o igual al primero\")\n"
   ],
   "outputs": [
    {
     "name": "stdout",
     "output_type": "stream",
     "text": [
      "El numero no es iguale\n",
      "El primer numero es mayor\n"
     ]
    }
   ],
   "execution_count": 1
  }
 ],
 "metadata": {
  "kernelspec": {
   "display_name": "Python 3",
   "language": "python",
   "name": "python3"
  },
  "language_info": {
   "codemirror_mode": {
    "name": "ipython",
    "version": 2
   },
   "file_extension": ".py",
   "mimetype": "text/x-python",
   "name": "python",
   "nbconvert_exporter": "python",
   "pygments_lexer": "ipython2",
   "version": "2.7.6"
  }
 },
 "nbformat": 4,
 "nbformat_minor": 5
}
