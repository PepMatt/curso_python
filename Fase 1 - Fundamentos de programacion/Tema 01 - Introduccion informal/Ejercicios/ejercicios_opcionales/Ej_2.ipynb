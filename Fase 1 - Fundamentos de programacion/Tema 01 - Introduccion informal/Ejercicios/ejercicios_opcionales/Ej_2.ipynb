{
 "cells": [
  {
   "cell_type": "code",
   "execution_count": null,
   "id": "initial_id",
   "metadata": {
    "collapsed": true
   },
   "outputs": [],
   "source": [
    "a = 10\n",
    "b = -5\n",
    "c = \"Hola \"\n",
    "d = [1, 2, 3]\n",
    "\n",
    "#   Completo ejercio desde aquí\n",
    "\n",
    "print(a * 5)            #50\n",
    "print(a - b)            #5\n",
    "print(c + \"Mundo\")      #Hola Mundo\n",
    "print(c * 2)            #Hola Hola \n",
    "print(c[-1])            #' '\n",
    "print(c[1:])            #ola \n",
    "print(d + d)            #[1, 2, 3, 1, 2, 3]"
   ]
  }
 ],
 "metadata": {
  "kernelspec": {
   "display_name": "Python 3",
   "language": "python",
   "name": "python3"
  },
  "language_info": {
   "codemirror_mode": {
    "name": "ipython",
    "version": 2
   },
   "file_extension": ".py",
   "mimetype": "text/x-python",
   "name": "python",
   "nbconvert_exporter": "python",
   "pygments_lexer": "ipython2",
   "version": "2.7.6"
  }
 },
 "nbformat": 4,
 "nbformat_minor": 5
}
