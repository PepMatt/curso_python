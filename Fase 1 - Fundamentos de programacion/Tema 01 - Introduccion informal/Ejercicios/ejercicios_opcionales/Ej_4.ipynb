{
 "cells": [
  {
   "metadata": {
    "ExecuteTime": {
     "end_time": "2024-07-02T15:52:15.052817Z",
     "start_time": "2024-07-02T15:52:15.048813Z"
    }
   },
   "cell_type": "code",
   "source": [
    "nota_1 = 10\n",
    "nota_2 = 7\n",
    "nota_3 = 4\n",
    "\n",
    "# Completa el ejercicio aquí\n",
    "\n",
    "media = (nota_1 * 0.15) + (nota_2 * 0.35) + (nota_3 * 0.50)\n",
    "print(f\"La nota media es {media}\")"
   ],
   "id": "aaddf062f27a5007",
   "outputs": [
    {
     "name": "stdout",
     "output_type": "stream",
     "text": [
      "La nota media es 5.949999999999999\n"
     ]
    }
   ],
   "execution_count": 3
  }
 ],
 "metadata": {
  "kernelspec": {
   "display_name": "Python 3",
   "language": "python",
   "name": "python3"
  },
  "language_info": {
   "codemirror_mode": {
    "name": "ipython",
    "version": 2
   },
   "file_extension": ".py",
   "mimetype": "text/x-python",
   "name": "python",
   "nbconvert_exporter": "python",
   "pygments_lexer": "ipython2",
   "version": "2.7.6"
  }
 },
 "nbformat": 4,
 "nbformat_minor": 5
}
