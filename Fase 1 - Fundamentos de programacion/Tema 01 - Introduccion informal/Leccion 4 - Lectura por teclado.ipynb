{
 "cells": [
  {
   "cell_type": "code",
   "execution_count": null,
   "metadata": {
    "collapsed": true
   },
   "outputs": [],
   "source": [
    "# Completa el ejercicio\n",
    "nombre = input(\"nombre\")\n",
    "apellido = input(\"introduzca su apellido\")\n",
    "edad = int(input(\"edad\"))\n",
    "\n",
    "numero_magico = float(input(\"numero de la suerte\"))\n",
    "\n",
    "cadena_final = f\"{nombre} {apellido}: Tu número de la suerte es el {edad * numero_magico}\"\n",
    "\n",
    "print(cadena_final)"
   ]
  }
 ],
 "metadata": {
  "anaconda-cloud": {},
  "kernelspec": {
   "display_name": "Python [default]",
   "language": "python",
   "name": "python3"
  },
  "language_info": {
   "codemirror_mode": {
    "name": "ipython",
    "version": 3
   },
   "file_extension": ".py",
   "mimetype": "text/x-python",
   "name": "python",
   "nbconvert_exporter": "python",
   "pygments_lexer": "ipython3",
   "version": "3.5.1"
  }
 },
 "nbformat": 4,
 "nbformat_minor": 0
}
