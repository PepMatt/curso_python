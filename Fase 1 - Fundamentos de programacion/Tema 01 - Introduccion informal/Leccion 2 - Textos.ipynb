{
 "cells": [
  {
   "cell_type": "code",
   "execution_count": null,
   "metadata": {
    "collapsed": true
   },
   "outputs": [],
   "source": [
    "# no modifiques el nombre de ninguna variable, pero puedes crear nuevas\n",
    "cadena1 = \"moderno\"\n",
    "cadena2 = \"Python\"\n",
    "cadena4 = \"de programación\"\n",
    "cadena3 = \"es un lenguaje\"\n",
    "\n",
    "# completa el ejercicio\n",
    "cadena5 = cadena2 +\" \"+ cadena3 + \" \" + cadena4 + \" \" +cadena1"
   ]
  }
 ],
 "metadata": {
  "anaconda-cloud": {},
  "kernelspec": {
   "display_name": "Python [default]",
   "language": "python",
   "name": "python3"
  },
  "language_info": {
   "codemirror_mode": {
    "name": "ipython",
    "version": 3
   },
   "file_extension": ".py",
   "mimetype": "text/x-python",
   "name": "python",
   "nbconvert_exporter": "python",
   "pygments_lexer": "ipython3",
   "version": "3.5.2"
  }
 },
 "nbformat": 4,
 "nbformat_minor": 0
}
